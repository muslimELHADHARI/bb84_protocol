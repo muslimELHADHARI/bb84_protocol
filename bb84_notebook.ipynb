{
 "cells": [
  {
   "cell_type": "markdown",
   "metadata": {},
   "source": [
    "# BB84 Quantum Key Distribution Protocol Simulation\n",
    "\n",
    "This notebook simulates the BB84 quantum key distribution protocol using Qiskit. The BB84 protocol allows two parties (Alice and Bob) to securely share a key, with the ability to detect an eavesdropper (Eve) via the Quantum Bit Error Rate (QBER).\n",
    "\n",
    "## Objectives\n",
    "- Simulate the BB84 protocol with and without an eavesdropper.\n",
    "- Generate and sift keys for Alice and Bob.\n",
    "- Calculate the QBER to detect potential interception.\n",
    "- Run multiple iterations to observe statistical behavior.\n",
    "\n",
    "## Requirements\n",
    "- Qiskit\n",
    "- NumPy\n",
    "- Python `random` module"
   ]
  },
  {
   "cell_type": "code",
   "metadata": {},
   "source": [
    "# Import required libraries\n",
    "from qiskit import QuantumCircuit\n",
    "from qiskit_aer import AerSimulator\n",
    "import numpy as np\n",
    "import random"
   ],
   "execution_count": null,
   "outputs": []
  },
  {
   "cell_type": "markdown",
   "metadata": {},
   "source": [
    "## BB84 Protocol Simulation Function\n",
    "\n",
    "The function below simulates the full BB84 protocol in clearly separated steps."
   ]
  },
  {
   "cell_type": "code",
   "metadata": {},
   "source": [
    "def simulate_bb84(n_bits=10, eavesdrop=False):\n",
    "    \"\"\"\n",
    "    Simulates the BB84 quantum key distribution protocol.\n",
    "    \n",
    "    Parameters:\n",
    "        n_bits (int): Number of qubits to transmit.\n",
    "        eavesdrop (bool): Whether to include an eavesdropper (Eve).\n",
    "    \n",
    "    Returns:\n",
    "        tuple: (sifted_key_alice, sifted_key_bob, qber)\n",
    "    \"\"\"\n",
    "    # Step 1: Alice generates random bits and bases\n",
    "    alice_bits = [random.randint(0, 1) for _ in range(n_bits)]\n",
    "    alice_bases = [random.randint(0, 1) for _ in range(n_bits)]  # 0 = Z, 1 = X\n",
    "\n",
    "    # Step 2: Alice prepares quantum states\n",
    "    circuits = []\n",
    "    for i in range(n_bits):\n",
    "        qc = QuantumCircuit(1, 1)\n",
    "        if alice_bits[i] == 1:\n",
    "            qc.x(0)\n",
    "        if alice_bases[i] == 1:\n",
    "            qc.h(0)\n",
    "        circuits.append(qc)\n",
    "\n",
    "    # Step 3: Eve intercepts, measures, and re-prepares (if enabled)\n",
    "    if eavesdrop:\n",
    "        eve_bases = [random.randint(0, 1) for _ in range(n_bits)]\n",
    "        for i in range(n_bits):\n",
    "            if eve_bases[i] == 1:\n",
    "                circuits[i].h(0)\n",
    "            circuits[i].measure(0, 0)\n",
    "            new_qc = QuantumCircuit(1, 1)\n",
    "            intercepted_bit = random.randint(0, 1)\n",
    "            if intercepted_bit == 1:\n",
    "                new_qc.x(0)\n",
    "            if eve_bases[i] == 1:\n",
    "                new_qc.h(0)\n",
    "            circuits[i] = new_qc\n",
    "\n",
    "    # Step 4: Bob chooses measurement bases and measures\n",
    "    bob_bases = [random.randint(0, 1) for _ in range(n_bits)]\n",
    "    bob_results = []\n",
    "    backend = AerSimulator()\n",
    "    for i in range(n_bits):\n",
    "        if bob_bases[i] == 1:\n",
    "            circuits[i].h(0)\n",
    "        circuits[i].measure(0, 0)\n",
    "        job = backend.run(circuits[i], shots=1)\n",
    "        result = job.result().get_counts()\n",
    "        measured_bit = int(list(result.keys())[0])\n",
    "        bob_results.append(measured_bit)\n",
    "\n",
    "    # Step 5: Key sifting (keep only bits where bases match)\n",
    "    sifted_key_alice = []\n",
    "    sifted_key_bob = []\n",
    "    for i in range(n_bits):\n",
    "        if alice_bases[i] == bob_bases[i]:\n",
    "            sifted_key_alice.append(alice_bits[i])\n",
    "            sifted_key_bob.append(bob_results[i])\n",
    "\n",
    "    # Step 6: QBER calculation\n",
    "    if len(sifted_key_alice) == 0:\n",
    "        qber = 0.0\n",
    "    else:\n",
    "        errors = sum(a != b for a, b in zip(sifted_key_alice, sifted_key_bob))\n",
    "        qber = errors / len(sifted_key_alice)\n",
    "\n",
    "    return sifted_key_alice, sifted_key_bob, qber"
   ],
   "execution_count": null,
   "outputs": []
  },
  {
   "cell_type": "markdown",
   "metadata": {},
   "source": [
    "## Run Simulations\n",
    "\n",
    "We will now run the BB84 protocol 10 times, both with and without eavesdropping, and display the results."
   ]
  },
  {
   "cell_type": "code",
   "metadata": {},
   "source": [
    "# Run simulations for 10 iterations\n",
    "for i in range(10):\n",
    "    print(f\"\\nIteration {i + 1}\")\n",
    "\n",
    "    print(\"--- Without Eavesdropping ---\")\n",
    "    key_a, key_b, qber = simulate_bb84(n_bits=10, eavesdrop=False)\n",
    "    print(\"Alice's key:\", key_a)\n",
    "    print(\"Bob's key:  \", key_b)\n",
    "    print(\"QBER:\", round(qber, 4))\n",
    "\n",
    "    print(\"--- With Eavesdropping ---\")\n",
    "    key_a_eve, key_b_eve, qber_eve = simulate_bb84(n_bits=10, eavesdrop=True)\n",
    "    print(\"Alice's key:\", key_a_eve)\n",
    "    print(\"Bob's key:  \", key_b_eve)\n",
    "    print(\"QBER:\", round(qber_eve, 4))"
   ],
   "execution_count": null,
   "outputs": []
  },
  {
   "cell_type": "markdown",
   "metadata": {},
   "source": [
    "## Analysis and Expected Behavior\n",
    "\n",
    "- **Without eavesdropping**, the QBER should be very low (close to 0), since there’s no disturbance in the qubits.\n",
    "- **With eavesdropping**, the QBER is typically higher (often near 0.25) due to Eve's random basis measurements introducing errors.\n",
    "- If QBER exceeds a certain threshold, Alice and Bob can infer the presence of an eavesdropper and discard the key.\n"
   ]
  },
  {
   "cell_type": "markdown",
   "metadata": {},
   "source": [
    "## Notes and Extensions\n",
    "\n",
    "- This simulation uses an ideal simulator (no physical noise).\n",
    "- Eve's behavior is simplified; more advanced strategies can be added.\n",
    "- Possible extensions:\n",
    "  - Add a noise model\n",
    "  - Introduce partial eavesdropping\n",
    "  - Simulate error correction and privacy amplification\n",
    "  - Visualize key agreement and QBER distributions"
   ]
  }
 ],
 "metadata": {
  "kernelspec": {
   "display_name": "Python 3",
   "language": "python",
   "name": "python3"
  },
  "language_info": {
   "name": "python"
  }
 },
 "nbformat": 4,
 "nbformat_minor": 5
}